{
 "cells": [
  {
   "cell_type": "code",
   "execution_count": 41,
   "metadata": {},
   "outputs": [],
   "source": [
    "import pandas as pd\n",
    "import matplotlib.pyplot as plt\n",
    "import numpy as np\n",
    "import scipy"
   ]
  },
  {
   "cell_type": "code",
   "execution_count": 35,
   "metadata": {},
   "outputs": [
    {
     "data": {
      "text/html": [
       "<div>\n",
       "<style scoped>\n",
       "    .dataframe tbody tr th:only-of-type {\n",
       "        vertical-align: middle;\n",
       "    }\n",
       "\n",
       "    .dataframe tbody tr th {\n",
       "        vertical-align: top;\n",
       "    }\n",
       "\n",
       "    .dataframe thead th {\n",
       "        text-align: right;\n",
       "    }\n",
       "</style>\n",
       "<table border=\"1\" class=\"dataframe\">\n",
       "  <thead>\n",
       "    <tr style=\"text-align: right;\">\n",
       "      <th></th>\n",
       "      <th>Date</th>\n",
       "      <th>Open</th>\n",
       "      <th>High</th>\n",
       "      <th>Low</th>\n",
       "      <th>Close</th>\n",
       "      <th>Adj Close</th>\n",
       "      <th>Volume</th>\n",
       "    </tr>\n",
       "  </thead>\n",
       "  <tbody>\n",
       "    <tr>\n",
       "      <th>0</th>\n",
       "      <td>1988-01-04</td>\n",
       "      <td>256.019989</td>\n",
       "      <td>256.019989</td>\n",
       "      <td>256.019989</td>\n",
       "      <td>256.019989</td>\n",
       "      <td>256.019989</td>\n",
       "      <td>0</td>\n",
       "    </tr>\n",
       "    <tr>\n",
       "      <th>1</th>\n",
       "      <td>1988-01-05</td>\n",
       "      <td>258.769989</td>\n",
       "      <td>258.769989</td>\n",
       "      <td>258.769989</td>\n",
       "      <td>258.769989</td>\n",
       "      <td>258.769989</td>\n",
       "      <td>0</td>\n",
       "    </tr>\n",
       "    <tr>\n",
       "      <th>2</th>\n",
       "      <td>1988-01-06</td>\n",
       "      <td>259.029999</td>\n",
       "      <td>259.029999</td>\n",
       "      <td>259.029999</td>\n",
       "      <td>259.029999</td>\n",
       "      <td>259.029999</td>\n",
       "      <td>0</td>\n",
       "    </tr>\n",
       "    <tr>\n",
       "      <th>3</th>\n",
       "      <td>1988-01-07</td>\n",
       "      <td>261.209991</td>\n",
       "      <td>261.209991</td>\n",
       "      <td>261.209991</td>\n",
       "      <td>261.209991</td>\n",
       "      <td>261.209991</td>\n",
       "      <td>0</td>\n",
       "    </tr>\n",
       "    <tr>\n",
       "      <th>4</th>\n",
       "      <td>1988-01-08</td>\n",
       "      <td>243.550003</td>\n",
       "      <td>243.550003</td>\n",
       "      <td>243.550003</td>\n",
       "      <td>243.550003</td>\n",
       "      <td>243.550003</td>\n",
       "      <td>0</td>\n",
       "    </tr>\n",
       "  </tbody>\n",
       "</table>\n",
       "</div>"
      ],
      "text/plain": [
       "         Date        Open        High         Low       Close   Adj Close  \\\n",
       "0  1988-01-04  256.019989  256.019989  256.019989  256.019989  256.019989   \n",
       "1  1988-01-05  258.769989  258.769989  258.769989  258.769989  258.769989   \n",
       "2  1988-01-06  259.029999  259.029999  259.029999  259.029999  259.029999   \n",
       "3  1988-01-07  261.209991  261.209991  261.209991  261.209991  261.209991   \n",
       "4  1988-01-08  243.550003  243.550003  243.550003  243.550003  243.550003   \n",
       "\n",
       "   Volume  \n",
       "0       0  \n",
       "1       0  \n",
       "2       0  \n",
       "3       0  \n",
       "4       0  "
      ]
     },
     "execution_count": 35,
     "metadata": {},
     "output_type": "execute_result"
    }
   ],
   "source": [
    "# dataset source https://finance.yahoo.com/quote/%5ESP500TR/history?period1=568278000&period2=1548226800&interval=1d&filter=history&frequency=1d\n",
    "# historical daily prices for S&P 500 TR (total return) index\n",
    "# NOTE: Adj Close factors in dividends, so that's a more accurate measure of returns\n",
    "df = pd.read_csv('SP500TR.csv')\n",
    "df.head()"
   ]
  },
  {
   "cell_type": "code",
   "execution_count": 36,
   "metadata": {},
   "outputs": [
    {
     "data": {
      "text/plain": [
       "array([ 0.01074135,  0.00100479,  0.00841598, ...,  0.00768998,\n",
       "        0.01321134, -0.0141172 ])"
      ]
     },
     "execution_count": 36,
     "metadata": {},
     "output_type": "execute_result"
    }
   ],
   "source": [
    "returns = np.ediff1d(df['Adj Close'].values)  # take Closing value (today) - Closing value (yesterday)\n",
    "pct_returns = returns / df['Adj Close'].values[:-1]  # convert to % by dividing by Closing value (yesterday)\n",
    "pct_returns"
   ]
  },
  {
   "cell_type": "code",
   "execution_count": 52,
   "metadata": {},
   "outputs": [
    {
     "data": {
      "image/png": "[encoded data removed]",
      "text/plain": [
       "<Figure size 432x288 with 1 Axes>"
      ]
     },
     "metadata": {
      "needs_background": "light"
     },
     "output_type": "display_data"
    }
   ],
   "source": [
    "# plot histogram compared to Gaussian.  Looks like this is not a Gaussian!\n",
    "# in fact it is probably a Laplace distribution\n",
    "# https://sixfigureinvesting.com/2016/03/modeling-stock-market-returns-with-laplace-distribution-instead-of-normal/\n",
    "plt.figure(1)\n",
    "plt.hist(pct_returns, bins=100, density=True)\n",
    "plt.xlim((min(pct_returns), max(pct_returns)))\n",
    "\n",
    "# calculate fitted Gaussian\n",
    "mean = np.mean(pct_returns)\n",
    "variance = np.var(pct_returns)\n",
    "sigma = np.sqrt(variance)\n",
    "x = np.linspace(min(pct_returns), max(pct_returns), 100)\n",
    "plt.plot(x, scipy.stats.norm.pdf(x, mean, sigma))\n",
    "\n",
    "plt.show()"
   ]
  },
  {
   "cell_type": "code",
   "execution_count": 45,
   "metadata": {},
   "outputs": [
    {
     "data": {
      "text/plain": [
       "8.946295841519206"
      ]
     },
     "execution_count": 45,
     "metadata": {},
     "output_type": "execute_result"
    }
   ],
   "source": [
    "# returns have LONG tails.  \"Outlier\" evens definitely happen (i.e. catastrophic market crashes)\n",
    "# kurtosis=3 would be Gaussian.  Anything larger has fat tails\n",
    "from scipy.stats import kurtosis\n",
    "\n",
    "kurtosis(pct_returns)"
   ]
  },
  {
   "cell_type": "code",
   "execution_count": 54,
   "metadata": {},
   "outputs": [
    {
     "data": {
      "image/png": "[encoded data removed]",
      "text/plain": [
       "<Figure size 432x288 with 1 Axes>"
      ]
     },
     "metadata": {
      "needs_background": "light"
     },
     "output_type": "display_data"
    }
   ],
   "source": [
    "# plot again on log scale to really show those fat tails\n",
    "\n",
    "plt.figure(1)\n",
    "plt.hist(pct_returns, bins=20, density=True)\n",
    "plt.xlim((min(pct_returns), max(pct_returns)))\n",
    "\n",
    "# calculate fitted Gaussian\n",
    "mean = np.mean(pct_returns)\n",
    "variance = np.var(pct_returns)\n",
    "sigma = np.sqrt(variance)\n",
    "x = np.linspace(min(pct_returns), max(pct_returns), 100)\n",
    "plt.plot(x, scipy.stats.norm.pdf(x, mean, sigma))\n",
    "\n",
    "plt.yscale('log')\n",
    "plt.show()"
   ]
  },
  {
   "cell_type": "code",
   "execution_count": null,
   "metadata": {},
   "outputs": [],
   "source": []
  }
 ],
 "metadata": {
  "kernelspec": {
   "display_name": "Python 3",
   "language": "python",
   "name": "python3"
  },
  "language_info": {
   "codemirror_mode": {
    "name": "ipython",
    "version": 3
   },
   "file_extension": ".py",
   "mimetype": "text/x-python",
   "name": "python",
   "nbconvert_exporter": "python",
   "pygments_lexer": "ipython3",
   "version": "3.6.8"
  }
 },
 "nbformat": 4,
 "nbformat_minor": 2
}

