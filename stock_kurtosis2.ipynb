{
 "cells": [
  {
   "cell_type": "code",
   "execution_count": null,
   "metadata": {},
   "outputs": [],
   "source": [
    "import pandas as pd\n",
    "import matplotlib.pyplot as plt\n",
    "import numpy as np\n",
    "import scipy\n",
    "import scipy.stats"
   ]
  },
  {
   "cell_type": "code",
   "execution_count": null,
   "metadata": {},
   "outputs": [],
   "source": [
    "# dataset source https://finance.yahoo.com/quote/%5ESP500TR/history?period1=568278000&period2=1548226800&interval=1d&filter=history&frequency=1d\n",
    "# historical daily prices for S&P 500 TR (total return) index\n",
    "# NOTE: Adj Close factors in dividends, so that's a more accurate measure of returns\n",
    "url=\"https://raw.githubusercontent.com/marilynwaldman/kurtosis/master/SP500TR.csv\"\n",
    "df = pd.read_csv(url)\n",
    "df.head()"
   ]
  },
  {
   "cell_type": "code",
   "execution_count": null,
   "metadata": {},
   "outputs": [],
   "source": [
    "# take Closing value (today) - Closing value (yesterday)\n",
    "returns = np.ediff1d(df['Adj Close'].values)  \n",
    "returns\n"
   ]
  },
  {
   "cell_type": "code",
   "execution_count": null,
   "metadata": {},
   "outputs": [],
   "source": [
    "# convert to % by dividing by Closing value (yesterday)\n",
    "pct_returns = returns / df['Adj Close'].values[:-1]  # convert to % by dividing by Closing value (yesterday)\n",
    "pct_returns"
   ]
  },
  {
   "cell_type": "markdown",
   "metadata": {},
   "source": [
    "#### use np.min(array name) to compute the minimum \n",
    "np.min(array_name)\n",
    "\n",
    "pct_rtns_min = np.min(pct_returns)\n"
   ]
  },
  {
   "cell_type": "code",
   "execution_count": null,
   "metadata": {
    "deletable": false,
    "nbgrader": {
     "checksum": "4c0c9c497deba4bfbf571e2d99eb2e0e",
     "grade": false,
     "grade_id": "cell-732b042a572f851c",
     "locked": false,
     "schema_version": 1,
     "solution": true
    }
   },
   "outputs": [],
   "source": [
    "#pct_rtns_min = np.min(pct_returns)\n",
    "# YOUR CODE HERE\n",
    "raise NotImplementedError()\n",
    "\n",
    "print(pct_rtns_min)"
   ]
  },
  {
   "cell_type": "code",
   "execution_count": null,
   "metadata": {
    "deletable": false,
    "editable": false,
    "nbgrader": {
     "checksum": "2e147d13d81ba965d613ca6b45f7aa8e",
     "grade": true,
     "grade_id": "cell-3137297aaa7e11cd",
     "locked": true,
     "points": 5,
     "schema_version": 1,
     "solution": false
    }
   },
   "outputs": [],
   "source": [
    "assert pct_rtns_min == np.min(pct_returns)\n"
   ]
  },
  {
   "cell_type": "markdown",
   "metadata": {},
   "source": [
    "#### use np.max(array name) to compute the minimum \n",
    "np.max(array_name)\n",
    "\n",
    "pct_rtns_max = np.max(pct_returns)"
   ]
  },
  {
   "cell_type": "code",
   "execution_count": null,
   "metadata": {
    "deletable": false,
    "nbgrader": {
     "checksum": "61b0c6c1ebad8781be6e3a3cac9fd8c1",
     "grade": false,
     "grade_id": "cell-5185ab4cf5d46fa9",
     "locked": false,
     "schema_version": 1,
     "solution": true
    }
   },
   "outputs": [],
   "source": [
    "# pct_rtns_max = np.max(pct_returns)\n",
    "# YOUR CODE HERE\n",
    "raise NotImplementedError()\n",
    "\n",
    "print(pct_rtns_max)"
   ]
  },
  {
   "cell_type": "code",
   "execution_count": null,
   "metadata": {
    "deletable": false,
    "editable": false,
    "nbgrader": {
     "checksum": "4e34fbeb712e3b8a9e2bc2c52c6698c2",
     "grade": true,
     "grade_id": "cell-388d499748f0db48",
     "locked": true,
     "points": 5,
     "schema_version": 1,
     "solution": false
    }
   },
   "outputs": [],
   "source": [
    "assert pct_rtns_max == np.max(pct_returns)"
   ]
  },
  {
   "cell_type": "code",
   "execution_count": null,
   "metadata": {},
   "outputs": [],
   "source": [
    "# plot histogram compared to Gaussian.  Looks like this is not a Gaussian!\n",
    "# in fact it is probably a Laplace distribution\n",
    "# https://sixfigureinvesting.com/2016/03/modeling-stock-market-returns-with-laplace-distribution-instead-of-normal/\n",
    "plt.figure(1)\n",
    "plt.hist(pct_returns, bins=100, density=True)\n",
    "plt.xlim((min(pct_returns), max(pct_returns)))\n",
    "\n",
    "# calculate fitted Gaussian\n",
    "mean = np.mean(pct_returns)\n",
    "variance = np.var(pct_returns)\n",
    "sigma = np.sqrt(variance)\n",
    "x = np.linspace(min(pct_returns), max(pct_returns), 100)\n",
    "plt.plot(x, scipy.stats.norm.pdf(x, mean, sigma))\n",
    "\n",
    "plt.show()"
   ]
  },
  {
   "cell_type": "code",
   "execution_count": null,
   "metadata": {},
   "outputs": [],
   "source": [
    "#### Compute the kurtosis - kurtosis(array_name)"
   ]
  },
  {
   "cell_type": "code",
   "execution_count": null,
   "metadata": {
    "deletable": false,
    "nbgrader": {
     "checksum": "5bfcb2b0ebf306244cad084b685c3052",
     "grade": false,
     "grade_id": "cell-942644d996cbbe26",
     "locked": false,
     "schema_version": 1,
     "solution": true
    }
   },
   "outputs": [],
   "source": [
    "# returns have LONG tails.  \"Outlier\" evens definitely happen (i.e. catastrophic market crashes)\n",
    "# kurtosis=3 would be Gaussian.  Anything larger has fat tails\n",
    "from scipy.stats import kurtosis\n",
    "#pct_rtns_kurtosis = kurtosis(pct_returns)\n",
    "# YOUR CODE HERE\n",
    "raise NotImplementedError()\n",
    "\n",
    "print(pct_rtns_kurtosis)"
   ]
  },
  {
   "cell_type": "code",
   "execution_count": null,
   "metadata": {
    "deletable": false,
    "editable": false,
    "nbgrader": {
     "checksum": "e05ef392d93ea282bfd6628648ad2e7e",
     "grade": true,
     "grade_id": "cell-20f4ddd17535e2f6",
     "locked": true,
     "points": 5,
     "schema_version": 1,
     "solution": false
    }
   },
   "outputs": [],
   "source": [
    "assert pct_rtns_kurtosis == kurtosis(pct_returns)"
   ]
  },
  {
   "cell_type": "code",
   "execution_count": null,
   "metadata": {},
   "outputs": [],
   "source": [
    "# plot again on log scale to really show those fat tails\n",
    "\n",
    "plt.figure(1)\n",
    "plt.hist(pct_returns, bins=20, density=True)\n",
    "plt.xlim((min(pct_returns), max(pct_returns)))\n",
    "\n",
    "# calculate fitted Gaussian\n",
    "mean = np.mean(pct_returns)\n",
    "variance = np.var(pct_returns)\n",
    "sigma = np.sqrt(variance)\n",
    "x = np.linspace(min(pct_returns), max(pct_returns), 100)\n",
    "plt.plot(x, scipy.stats.norm.pdf(x, mean, sigma))\n",
    "\n",
    "plt.yscale('log')\n",
    "plt.show()"
   ]
  },
  {
   "cell_type": "code",
   "execution_count": null,
   "metadata": {},
   "outputs": [],
   "source": []
  }
 ],
 "metadata": {
  "kernelspec": {
   "display_name": "Python 3",
   "language": "python",
   "name": "python3"
  },
  "language_info": {
   "codemirror_mode": {
    "name": "ipython",
    "version": 3
   },
   "file_extension": ".py",
   "mimetype": "text/x-python",
   "name": "python",
   "nbconvert_exporter": "python",
   "pygments_lexer": "ipython3",
   "version": "3.6.7"
  }
 },
 "nbformat": 4,
 "nbformat_minor": 2
}
